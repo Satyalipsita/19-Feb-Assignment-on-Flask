{
  "metadata": {
    "language_info": {
      "codemirror_mode": {
        "name": "python",
        "version": 3
      },
      "file_extension": ".py",
      "mimetype": "text/x-python",
      "name": "python",
      "nbconvert_exporter": "python",
      "pygments_lexer": "ipython3",
      "version": "3.8"
    },
    "kernelspec": {
      "name": "python",
      "display_name": "Python (Pyodide)",
      "language": "python"
    }
  },
  "nbformat_minor": 4,
  "nbformat": 4,
  "cells": [
    {
      "cell_type": "code",
      "source": "Q-5:\n    The url_for() function is used to build a URL to the specific function dynamically. \nThe first argument is the name of the specified function, \nand then we can pass any number of keyword argument corresponding to\nthe variable part of the URL.",
      "metadata": {},
      "execution_count": null,
      "outputs": []
    },
    {
      "cell_type": "code",
      "source": "url_for('add', variable=foo)\nurl_for('remove', variable=foo)\n@app.route('/<variable>/add', methods=['GET', 'POST'])\ndef add(variable):\n\n@app.route('/<variable>/remove', methods=['GET', 'POST'])\ndef remove(variable)",
      "metadata": {},
      "execution_count": null,
      "outputs": []
    },
    {
      "cell_type": "code",
      "source": "# syntax\n url_for('name of the function of the route','parameters (if required)')\n\n",
      "metadata": {},
      "execution_count": null,
      "outputs": []
    }
  ]
}