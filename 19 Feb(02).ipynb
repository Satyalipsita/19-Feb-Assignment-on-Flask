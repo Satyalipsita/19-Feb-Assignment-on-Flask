{
  "metadata": {
    "language_info": {
      "codemirror_mode": {
        "name": "python",
        "version": 3
      },
      "file_extension": ".py",
      "mimetype": "text/x-python",
      "name": "python",
      "nbconvert_exporter": "python",
      "pygments_lexer": "ipython3",
      "version": "3.8"
    },
    "kernelspec": {
      "name": "python",
      "display_name": "Python (Pyodide)",
      "language": "python"
    }
  },
  "nbformat_minor": 4,
  "nbformat": 4,
  "cells": [
    {
      "cell_type": "code",
      "source": "from flask import Flask\nfrom flask import request\napp = Flask(__name__)\n\n@app.route(\"/hello_world1\")\ndef hello_world1():\n    return \"<h1>Hello, World1!</h1>\"\n\n@app.route(\"/test2/test2\")\ndef test2():\n     data= request.args.get(\"x\")\n     return \"This is the input data{}\".format(data)\n\n@app.route(\"/test1\")\ndef test1():\n     return \"I love you lipsita very much,i promise i wont harm you physically andmentally .i will listen to you each and every time and will also try to keep peace inside home.will also try fot not to shout on you on top of small small isuues\"\n\nif __name__==\"__main__\":\n    app.run(host=\"0.0.0.0\")\n",
      "metadata": {},
      "execution_count": null,
      "outputs": []
    },
    {
      "cell_type": "code",
      "source": "# Checked properly its working for different browser. but not able to insert the screen shot in jupiter.\nfrom IPython.display import Image\nimage=Image(\"img/Flaskinput_API.png\")",
      "metadata": {
        "trusted": true
      },
      "execution_count": 8,
      "outputs": []
    },
    {
      "cell_type": "code",
      "source": "",
      "metadata": {},
      "execution_count": null,
      "outputs": []
    }
  ]
}