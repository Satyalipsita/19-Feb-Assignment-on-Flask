{
  "metadata": {
    "language_info": {
      "codemirror_mode": {
        "name": "python",
        "version": 3
      },
      "file_extension": ".py",
      "mimetype": "text/x-python",
      "name": "python",
      "nbconvert_exporter": "python",
      "pygments_lexer": "ipython3",
      "version": "3.8"
    },
    "kernelspec": {
      "name": "python",
      "display_name": "Python (Pyodide)",
      "language": "python"
    }
  },
  "nbformat_minor": 4,
  "nbformat": 4,
  "cells": [
    {
      "cell_type": "code",
      "source": "rom flask import Flask\nfrom flask import request\napp = Flask(__name__)\n\n@app.route(\"/welcome\")\ndef welcome():\n    return \"<h1>welcome to ABC corporation!</h1>\"\n\n@app.route(\"/test1\")\ndef test1():\n     return \" Name= ABC Corporation, Location:delhi, Contact Number-9878987656\"\n    \nif __name__==\"__main__\":\n    app.run(host=\"0.0.0.0\")",
      "metadata": {},
      "execution_count": null,
      "outputs": []
    },
    {
      "cell_type": "code",
      "source": "# Checked properly its working as server program and can acess from different browser using the url, but couldnt be able to attch screenshot as ",
      "metadata": {},
      "execution_count": null,
      "outputs": []
    }
  ]
}